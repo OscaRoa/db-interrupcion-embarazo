{
 "cells": [
  {
   "cell_type": "markdown",
   "metadata": {},
   "source": [
    "# Load database or fetch it from URL"
   ]
  },
  {
   "cell_type": "code",
   "execution_count": 1,
   "metadata": {},
   "outputs": [],
   "source": [
    "import pandas as pd\n",
    "\n",
    "try:\n",
    "    data = pd.read_csv('./data/interrupcion-legal-del-embarazo.csv')\n",
    "except FileNotFoundError:\n",
    "    url = \"https://datos.cdmx.gob.mx/explore/dataset/interrupcion-legal-del-embarazo/download/?format=csv&timezone=America/Mexico_City&lang=es&use_labels_for_header=true&csv_separator=%2C\"\n",
    "    data = pd.read_csv(url)\n",
    "    data.to_csv('./data/interrupcion-legal-del-embarazo.csv')\n"
   ]
  },
  {
   "cell_type": "markdown",
   "metadata": {},
   "source": [
    "### Number of rows and columns"
   ]
  },
  {
   "cell_type": "code",
   "execution_count": 2,
   "metadata": {},
   "outputs": [
    {
     "data": {
      "text/plain": [
       "62003"
      ]
     },
     "execution_count": 2,
     "metadata": {},
     "output_type": "execute_result"
    }
   ],
   "source": [
    "len(data)"
   ]
  },
  {
   "cell_type": "code",
   "execution_count": 3,
   "metadata": {},
   "outputs": [
    {
     "data": {
      "text/plain": [
       "37"
      ]
     },
     "execution_count": 3,
     "metadata": {},
     "output_type": "execute_result"
    }
   ],
   "source": [
    "len(data.columns)"
   ]
  },
  {
   "cell_type": "markdown",
   "metadata": {},
   "source": [
    "### Lowercase column names"
   ]
  },
  {
   "cell_type": "code",
   "execution_count": 4,
   "metadata": {},
   "outputs": [
    {
     "data": {
      "text/plain": [
       "unnamed: 0                int64\n",
       "año                       int64\n",
       "mes                      object\n",
       "cve_hospital              int64\n",
       "fingreso                 object\n",
       "autoref                  object\n",
       "edocivil_descripcion     object\n",
       "edad                      int64\n",
       "desc_derechohab          object\n",
       "nivel_edu                object\n",
       "ocupacion                object\n",
       "religion                 object\n",
       "parentesco               object\n",
       "entidad                  object\n",
       "alc o municipio          object\n",
       "menarca                 float64\n",
       "fsexual                 float64\n",
       "fmenstrua                object\n",
       "sememb                  float64\n",
       "nhijos                  float64\n",
       "gesta                   float64\n",
       "naborto                 float64\n",
       "npartos                 float64\n",
       "ncesarea                float64\n",
       "nile                    float64\n",
       "consejeria               object\n",
       "anticonceptivo           object\n",
       "c_num                   float64\n",
       "motiles                  object\n",
       "h_fingreso               object\n",
       "desc_servicio            object\n",
       "p_semgest               float64\n",
       "p_diasgesta             float64\n",
       "p_consent                object\n",
       "procile                  object\n",
       "s_complica               object\n",
       "panticoncep              object\n",
       "dtype: object"
      ]
     },
     "execution_count": 4,
     "metadata": {},
     "output_type": "execute_result"
    }
   ],
   "source": [
    "data.columns = data.columns.str.lower()\n",
    "data.dtypes"
   ]
  },
  {
   "cell_type": "markdown",
   "metadata": {},
   "source": [
    "### Exclude unused variables"
   ]
  },
  {
   "cell_type": "code",
   "execution_count": 5,
   "metadata": {},
   "outputs": [
    {
     "data": {
      "text/plain": [
       "anticonceptivo           object\n",
       "consejeria               object\n",
       "edad                      int64\n",
       "edocivil_descripcion     object\n",
       "fsexual                 float64\n",
       "gesta                   float64\n",
       "menarca                 float64\n",
       "motiles                  object\n",
       "naborto                 float64\n",
       "ncesarea                float64\n",
       "nhijos                  float64\n",
       "nile                    float64\n",
       "nivel_edu                object\n",
       "npartos                 float64\n",
       "ocupacion                object\n",
       "religion                 object\n",
       "sememb                  float64\n",
       "dtype: object"
      ]
     },
     "execution_count": 5,
     "metadata": {},
     "output_type": "execute_result"
    }
   ],
   "source": [
    "excluded = [\n",
    "    'unnamed: 0', 'año', 'mes', 'desc_derechohab', 'cve_hospital', 'fingreso', 'autoref', \n",
    "    'parentesco', 'entidad', 'alc o municipio', 'c_num', 'h_fingreso', 'desc_servicio',\n",
    "    'p_semgest', 'p_consent', 'procile', 's_complica', 'panticoncep', 'fmenstrua', 'p_diasgesta'\n",
    "]\n",
    "filtered_data = data[data.columns.difference(excluded)]\n",
    "filtered_data.dtypes"
   ]
  },
  {
   "cell_type": "code",
   "execution_count": 6,
   "metadata": {},
   "outputs": [
    {
     "data": {
      "text/plain": [
       "17"
      ]
     },
     "execution_count": 6,
     "metadata": {},
     "output_type": "execute_result"
    }
   ],
   "source": [
    "len(filtered_data.columns)"
   ]
  }
 ],
 "metadata": {
  "kernelspec": {
   "display_name": "Python 3",
   "language": "python",
   "name": "python3"
  },
  "language_info": {
   "codemirror_mode": {
    "name": "ipython",
    "version": 3
   },
   "file_extension": ".py",
   "mimetype": "text/x-python",
   "name": "python",
   "nbconvert_exporter": "python",
   "pygments_lexer": "ipython3",
   "version": "3.8.1"
  }
 },
 "nbformat": 4,
 "nbformat_minor": 4
}

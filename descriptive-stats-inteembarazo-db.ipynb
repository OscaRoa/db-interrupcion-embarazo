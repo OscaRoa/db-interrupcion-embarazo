{
 "cells": [
  {
   "cell_type": "markdown",
   "metadata": {},
   "source": [
    "# Load database or fetch it from URL"
   ]
  },
  {
   "cell_type": "code",
   "execution_count": 1,
   "metadata": {},
   "outputs": [],
   "source": [
    "import pandas as pd\n",
    "\n",
    "try:\n",
    "    data = pd.read_csv('./data/interrupcion-legal-del-embarazo.csv')\n",
    "except FileNotFoundError:\n",
    "    url = \"https://datos.cdmx.gob.mx/explore/dataset/interrupcion-legal-del-embarazo/download/?format=csv&timezone=America/Mexico_City&lang=es&use_labels_for_header=true&csv_separator=%2C\"\n",
    "    data = pd.read_csv(url)\n",
    "    data.to_csv('./data/interrupcion-legal-del-embarazo.csv')\n"
   ]
  },
  {
   "cell_type": "markdown",
   "metadata": {},
   "source": [
    "### Number of rows and columns"
   ]
  },
  {
   "cell_type": "code",
   "execution_count": 2,
   "metadata": {},
   "outputs": [
    {
     "data": {
      "text/plain": "62003"
     },
     "execution_count": 2,
     "metadata": {},
     "output_type": "execute_result"
    }
   ],
   "source": [
    "len(data)"
   ]
  },
  {
   "cell_type": "code",
   "execution_count": 3,
   "metadata": {},
   "outputs": [
    {
     "data": {
      "text/plain": "37"
     },
     "execution_count": 3,
     "metadata": {},
     "output_type": "execute_result"
    }
   ],
   "source": [
    "len(data.columns)"
   ]
  },
  {
   "cell_type": "markdown",
   "metadata": {},
   "source": [
    "### Lowercase column names"
   ]
  },
  {
   "cell_type": "code",
   "execution_count": 4,
   "metadata": {},
   "outputs": [
    {
     "data": {
      "text/plain": "unnamed: 0                int64\naño                       int64\nmes                      object\ncve_hospital              int64\nfingreso                 object\nautoref                  object\nedocivil_descripcion     object\nedad                      int64\ndesc_derechohab          object\nnivel_edu                object\nocupacion                object\nreligion                 object\nparentesco               object\nentidad                  object\nalc o municipio          object\nmenarca                 float64\nfsexual                 float64\nfmenstrua                object\nsememb                  float64\nnhijos                  float64\ngesta                   float64\nnaborto                 float64\nnpartos                 float64\nncesarea                float64\nnile                    float64\nconsejeria               object\nanticonceptivo           object\nc_num                   float64\nmotiles                  object\nh_fingreso               object\ndesc_servicio            object\np_semgest               float64\np_diasgesta             float64\np_consent                object\nprocile                  object\ns_complica               object\npanticoncep              object\ndtype: object"
     },
     "execution_count": 4,
     "metadata": {},
     "output_type": "execute_result"
    }
   ],
   "source": [
    "data.columns = data.columns.str.lower()\n",
    "data.dtypes"
   ]
  },
  {
   "cell_type": "markdown",
   "metadata": {},
   "source": [
    "### Exclude unused variables"
   ]
  },
  {
   "cell_type": "code",
   "execution_count": 5,
   "metadata": {},
   "outputs": [
    {
     "data": {
      "text/plain": "anticonceptivo           object\nconsejeria               object\nedad                      int64\nedocivil_descripcion     object\nfsexual                 float64\ngesta                   float64\nmenarca                 float64\nmotiles                  object\nnaborto                 float64\nncesarea                float64\nnhijos                  float64\nnile                    float64\nnivel_edu                object\nnpartos                 float64\nocupacion                object\nreligion                 object\nsememb                  float64\ndtype: object"
     },
     "execution_count": 5,
     "metadata": {},
     "output_type": "execute_result"
    }
   ],
   "source": [
    "excluded = [\n",
    "    'unnamed: 0', 'año', 'mes', 'desc_derechohab', 'cve_hospital', 'fingreso', 'autoref', \n",
    "    'parentesco', 'entidad', 'alc o municipio', 'c_num', 'h_fingreso', 'desc_servicio',\n",
    "    'p_semgest', 'p_consent', 'procile', 's_complica', 'panticoncep', 'fmenstrua', 'p_diasgesta'\n",
    "]\n",
    "filtered_data = data[data.columns.difference(excluded)]\n",
    "filtered_data.dtypes"
   ]
  },
  {
   "cell_type": "code",
   "execution_count": 6,
   "metadata": {},
   "outputs": [
    {
     "data": {
      "text/plain": "17"
     },
     "execution_count": 6,
     "metadata": {},
     "output_type": "execute_result"
    }
   ],
   "source": [
    "len(filtered_data.columns)"
   ]
  },
  {
   "cell_type": "markdown",
   "metadata": {},
   "source": [
    "## Categorical variables encoding example"
   ]
  },
  {
   "cell_type": "code",
   "execution_count": 7,
   "metadata": {},
   "outputs": [
    {
     "data": {
      "text/plain": "Ninguno                                32594\nCondón                                 15405\nDIU                                     2031\nBarrera                                 1361\nAnticoncepcion de Emergencia            1270\nInyección                               1114\nParche Dérmico                           578\nImplante Subdérmico                      374\nPastillas Anticonceptivas                312\nHormonal Oral                            115\nVasectomía                                41\nHormonal Inyectable                       33\nCondón y Otro                             17\nAnticoncepcion de Emergencia y Otro       17\nAnillo Vaginal                            11\nCalendario                                 7\nSalpingoclacia                             5\nCoito interrumpido                         5\nMedicamento                                4\nRitmo                                      3\nName: anticonceptivo_cat, dtype: int64"
     },
     "execution_count": 7,
     "metadata": {},
     "output_type": "execute_result"
    }
   ],
   "source": [
    "filtered_data[\"anticonceptivo_cat\"] = filtered_data.anticonceptivo.astype(\"category\")\n",
    "filtered_data.anticonceptivo_cat.value_counts()"
   ]
  },
  {
   "cell_type": "code",
   "execution_count": 8,
   "metadata": {},
   "outputs": [
    {
     "data": {
      "text/plain": " 14    32594\n 6     15405\n-1      6706\n 8      2031\n 3      1361\n 1      1270\n 12     1114\n 15      578\n 11      374\n 16      312\n 10      115\n 19       41\n 9        33\n 7        17\n 2        17\n 0        11\n 4         7\n 5         5\n 18        5\n 13        4\n 17        3\nName: anticonceptivo_code, dtype: int64"
     },
     "execution_count": 8,
     "metadata": {},
     "output_type": "execute_result"
    }
   ],
   "source": [
    "filtered_data[\"anticonceptivo_code\"] = filtered_data.anticonceptivo_cat.cat.codes\n",
    "filtered_data.anticonceptivo_code.value_counts()"
   ]
  },
  {
   "cell_type": "markdown",
   "metadata": {},
   "source": [
    "## Encode all columns with type object"
   ]
  },
  {
   "cell_type": "code",
   "execution_count": 9,
   "metadata": {},
   "outputs": [
    {
     "data": {
      "text/plain": "anticonceptivo          object\nconsejeria              object\nedocivil_descripcion    object\nmotiles                 object\nnivel_edu               object\nocupacion               object\nreligion                object\ndtype: object"
     },
     "execution_count": 9,
     "metadata": {},
     "output_type": "execute_result"
    }
   ],
   "source": [
    "columns_to_encode = [\"anticonceptivo\", \"consejeria\", \"edocivil_descripcion\", \"motiles\", \"nivel_edu\", \"ocupacion\", \"religion\"]\n",
    "c_filtered_data = filtered_data[columns_to_encode]\n",
    "c_filtered_data.dtypes"
   ]
  },
  {
   "cell_type": "code",
   "execution_count": 10,
   "metadata": {},
   "outputs": [
    {
     "data": {
      "text/plain": "anticonceptivo                 object\nconsejeria                     object\nedocivil_descripcion           object\nmotiles                        object\nnivel_edu                      object\nocupacion                      object\nreligion                       object\nanticonceptivo_cat           category\nanticonceptivo_code              int8\nconsejeria_cat               category\nconsejeria_code                  int8\nedocivil_descripcion_cat     category\nedocivil_descripcion_code        int8\nmotiles_cat                  category\nmotiles_code                     int8\nnivel_edu_cat                category\nnivel_edu_code                   int8\nocupacion_cat                category\nocupacion_code                   int8\nreligion_cat                 category\nreligion_code                    int8\ndtype: object"
     },
     "execution_count": 10,
     "metadata": {},
     "output_type": "execute_result"
    }
   ],
   "source": [
    "for column in c_filtered_data:\n",
    "    cat_name = column + \"_cat\"\n",
    "    code_name = column + \"_code\"\n",
    "    c_filtered_data[cat_name] = c_filtered_data[column].astype(\"category\")\n",
    "    c_filtered_data[code_name] = c_filtered_data[cat_name].cat.codes\n",
    "\n",
    "c_filtered_data.dtypes"
   ]
  },
  {
   "cell_type": "markdown",
   "metadata": {},
   "source": [
    "## Remove original columns in the data copy"
   ]
  },
  {
   "cell_type": "code",
   "execution_count": 11,
   "metadata": {},
   "outputs": [
    {
     "data": {
      "text/plain": "anticonceptivo_cat           category\nanticonceptivo_code              int8\nconsejeria_cat               category\nconsejeria_code                  int8\nedocivil_descripcion_cat     category\nedocivil_descripcion_code        int8\nmotiles_cat                  category\nmotiles_code                     int8\nnivel_edu_cat                category\nnivel_edu_code                   int8\nocupacion_cat                category\nocupacion_code                   int8\nreligion_cat                 category\nreligion_code                    int8\ndtype: object"
     },
     "execution_count": 11,
     "metadata": {},
     "output_type": "execute_result"
    }
   ],
   "source": [
    "c_filtered_data = c_filtered_data[c_filtered_data.columns.difference(columns_to_encode)]\n",
    "c_filtered_data.dtypes"
   ]
  },
  {
   "cell_type": "markdown",
   "metadata": {},
   "source": [
    "## Join both dataframes into a new one"
   ]
  },
  {
   "cell_type": "code",
   "execution_count": 12,
   "metadata": {},
   "outputs": [
    {
     "data": {
      "text/plain": "anticonceptivo                 object\nconsejeria                     object\nedad                          float64\nedocivil_descripcion           object\nfsexual                       float64\ngesta                         float64\nmenarca                       float64\nmotiles                        object\nnaborto                       float64\nncesarea                      float64\nnhijos                        float64\nnile                          float64\nnivel_edu                      object\nnpartos                       float64\nocupacion                      object\nreligion                       object\nsememb                        float64\nanticonceptivo_cat           category\nanticonceptivo_code              int8\nconsejeria_cat                 object\nconsejeria_code               float64\nedocivil_descripcion_cat       object\nedocivil_descripcion_code     float64\nmotiles_cat                    object\nmotiles_code                  float64\nnivel_edu_cat                  object\nnivel_edu_code                float64\nocupacion_cat                  object\nocupacion_code                float64\nreligion_cat                   object\nreligion_code                 float64\ndtype: object"
     },
     "execution_count": 12,
     "metadata": {},
     "output_type": "execute_result"
    }
   ],
   "source": [
    "encoded_data = pd.concat([filtered_data, c_filtered_data])\n",
    "encoded_data.dtypes"
   ]
  },
  {
   "cell_type": "code",
   "execution_count": null,
   "metadata": {},
   "outputs": [],
   "source": []
  }
 ],
 "metadata": {
  "kernelspec": {
   "display_name": "Python 3",
   "language": "python",
   "name": "python3"
  },
  "language_info": {
   "codemirror_mode": {
    "name": "ipython",
    "version": 3
   },
   "file_extension": ".py",
   "mimetype": "text/x-python",
   "name": "python",
   "nbconvert_exporter": "python",
   "pygments_lexer": "ipython3",
   "version": "3.7.5-final"
  }
 },
 "nbformat": 4,
 "nbformat_minor": 4
}